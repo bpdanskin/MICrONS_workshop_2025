{
 "cells": [
  {
   "cell_type": "markdown",
   "id": "7dadfb64-24d5-4b02-9b9d-730cc91dee89",
   "metadata": {},
   "source": [
    "# Programmatic access to the MICrONS dataset using CAVE\n",
    "\n",
    "This tutorial walks through the key functions needed to access the MICrONS dataset programmatically and highlights key resources within it. While this tutorial is written for the MICrONS dataset specifically, the underlying technology (CAVE) is being used for multiple connectomics dataset. So, the interface presented here can be used to query them as well. \n",
    "\n",
    "__This notebook is made to run in Google Colab. Each time your start the remote kernel, you will need to reinstall CAVE and add your token__"
   ]
  },
  {
   "cell_type": "markdown",
   "id": "328e2185-074f-44d3-a6fc-9991d79ff70d",
   "metadata": {},
   "source": [
    "## CAVEclient and setup\n",
    "\n",
    "The CAVEclient is a python library that facilitates communication with a CAVE system. It can be install with"
   ]
  },
  {
   "cell_type": "code",
   "execution_count": null,
   "id": "eb7409c9-646d-471a-b6af-dc5db348927a",
   "metadata": {},
   "outputs": [],
   "source": [
    "!pip install -q caveclient "
   ]
  },
  {
   "cell_type": "markdown",
   "id": "ec085a94-a604-4a06-b68e-d221035551c1",
   "metadata": {},
   "source": [
    "and imported like so:"
   ]
  },
  {
   "cell_type": "code",
   "execution_count": null,
   "id": "a3623131-5ba7-4044-b22a-c7933c7ab0cf",
   "metadata": {},
   "outputs": [],
   "source": [
    "import caveclient"
   ]
  },
  {
   "cell_type": "markdown",
   "id": "87372f96-3fff-41d6-98ff-6862f6189b42",
   "metadata": {},
   "source": [
    "## CAVE account setup"
   ]
  },
  {
   "cell_type": "markdown",
   "id": "6cd8ba06-cb50-43b1-ac90-8cb935ecf282",
   "metadata": {},
   "source": [
    "In order to manage server traffic, every user needs to create a CAVE account and download a user token to access CAVE's services programmatically. The CAVE infrastructure can be read about in more detail on our preprint. The MICrONS data is publicly available which means that no extra permissions need to be given to a new user account to access the data. Bulk downloads of some static data are also available without an account on MICrONs Explorer.\n",
    "\n",
    "__A Google account (or Google-enabled account) is required to create a CAVE account.__\n",
    "\n",
    "Go to: https://global.daf-apis.com/auth/api/v1/user/token to view a list of your existing tokens\n",
    "\n",
    "If you have never made a token before:\n",
    "1. go here: https://minnie.microns-daf.com/materialize/views/datastack/minnie65_public to accept terms of service\n",
    "2. then go here https://global.daf-apis.com/auth/api/v1/create_token to create a new token."
   ]
  },
  {
   "cell_type": "markdown",
   "id": "9192913b-5dca-46cd-b581-e2c5e1b7a090",
   "metadata": {},
   "source": [
    "### Set or save your token\n",
    "\n",
    "From the website that just opened up, paste your token here:"
   ]
  },
  {
   "cell_type": "code",
   "execution_count": null,
   "id": "ded74cc5-e88e-49eb-8eaa-2c2ea20ab287",
   "metadata": {},
   "outputs": [],
   "source": [
    "my_token = \"PASTE_TOKEN_HERE\""
   ]
  },
  {
   "cell_type": "markdown",
   "id": "48e16d17-fd94-48ff-bf8b-3e41bab3134f",
   "metadata": {},
   "source": [
    "If you are running this on your local machine or on a server you can (optionally) store the token on your machine. This makes future uses easier."
   ]
  },
  {
   "cell_type": "code",
   "execution_count": null,
   "id": "09d895f2-3b41-416f-ae72-48b050a0dd3c",
   "metadata": {},
   "outputs": [],
   "source": [
    "# client.auth.save_token(token=my_token, overwrite=True)"
   ]
  },
  {
   "cell_type": "markdown",
   "id": "fa57550b-0343-4736-ac07-c64d1eff0759",
   "metadata": {},
   "source": [
    "## Libraries for this notebook"
   ]
  },
  {
   "cell_type": "markdown",
   "id": "a9579595-85f0-4937-af27-329e45cef9ed",
   "metadata": {},
   "source": [
    "This notebook makes use of a few python libraries. These can be install via `pip install` in the command line or directly here:"
   ]
  },
  {
   "cell_type": "code",
   "execution_count": null,
   "id": "b34c0612-8e2a-4ab3-a7dc-194021881ef6",
   "metadata": {},
   "outputs": [],
   "source": [
    "import pandas as pd\n",
    "import seaborn as sns\n",
    "import numpy as np\n",
    "from matplotlib import pyplot as plt"
   ]
  },
  {
   "cell_type": "markdown",
   "id": "efc7b5ab-98d3-4fb5-a3b2-631e92e7522f",
   "metadata": {},
   "source": [
    "## Initialize CAVEclient with a datastack"
   ]
  },
  {
   "cell_type": "markdown",
   "id": "4d332906-423f-4718-892f-00aa0bbe1661",
   "metadata": {},
   "source": [
    "Datasets in CAVE are organized as datastacks. These are a combination of an EM dataset, a segmentation and a set of annotations. The datastack for MICrONS public release is `minnie65_public`. When you instantiate your client with this datastack, it loads all relevant information to access it."
   ]
  },
  {
   "cell_type": "code",
   "execution_count": null,
   "id": "e7525717-b2e4-483c-80ae-ce21bfbaa083",
   "metadata": {},
   "outputs": [],
   "source": [
    "datastack_name = \"minnie65_public\"\n",
    "\n",
    "client = caveclient.CAVEclient(datastack_name, auth_token=my_token)"
   ]
  },
  {
   "cell_type": "markdown",
   "id": "d956f8dc-f77d-4a67-bfba-a73fbbc7183b",
   "metadata": {},
   "source": [
    "## Materialization versions\n"
   ]
  },
  {
   "cell_type": "markdown",
   "id": "e60699f8-31bd-4b89-8cdc-702a136e8231",
   "metadata": {},
   "source": [
    "Data in CAVE is timestamped and periodically versioned - each (materialization) version corresponds to a specific timestamp. Individual versions are made publicly available. The materialization service provides annotation queries to the dataset. It is available under `client.materialize`. \n",
    "\n",
    "Currently the following versions are publicly available:"
   ]
  },
  {
   "cell_type": "code",
   "execution_count": null,
   "id": "f0a1d862-60c8-45ab-a737-f9bf006ae3cf",
   "metadata": {
    "scrolled": true
   },
   "outputs": [],
   "source": [
    "client.materialize.get_versions()"
   ]
  },
  {
   "cell_type": "markdown",
   "id": "0b4dbcf0-b055-4084-bde6-d6b932cf1c30",
   "metadata": {},
   "source": [
    "And these are their associated timestamps (all timestamps are in UTC):"
   ]
  },
  {
   "cell_type": "code",
   "execution_count": null,
   "id": "33f3693b-5904-4d9b-a6ee-ee5aecbfde66",
   "metadata": {},
   "outputs": [],
   "source": [
    "for version in client.materialize.get_versions():\n",
    "    print(f\"Version {version}: {client.materialize.get_timestamp(version)}\")"
   ]
  },
  {
   "cell_type": "markdown",
   "id": "b23f00a7-90de-4e13-82d2-e8136b800698",
   "metadata": {},
   "source": [
    "The client will automatically query the latest materialization version. You can specify a `materialization_version` for every query if you want to access a specific version."
   ]
  },
  {
   "cell_type": "code",
   "execution_count": null,
   "id": "fdffd278-9e99-476b-995c-821c2fbb8c9c",
   "metadata": {},
   "outputs": [],
   "source": [
    "# for today we will use v1300\n",
    "client.version = 1300"
   ]
  },
  {
   "cell_type": "markdown",
   "id": "983c3336-b159-4572-a633-4e1996a4302b",
   "metadata": {},
   "source": [
    "## Tables and generally useful information"
   ]
  },
  {
   "cell_type": "markdown",
   "id": "2acdcbfe-e4cc-4cd8-9841-159c754ab087",
   "metadata": {},
   "source": [
    "A datastack has a large number of tables that can be intimidating to traverse at first. CAVE provides several ways to find the tables you may want use. To print all tables that are available run:"
   ]
  },
  {
   "cell_type": "code",
   "execution_count": null,
   "id": "04d0290f-f743-4449-a8ed-48dd8f73c02a",
   "metadata": {},
   "outputs": [],
   "source": [
    "client.materialize.get_tables()"
   ]
  },
  {
   "cell_type": "markdown",
   "id": "939a70c1-4677-4ce2-ae29-c6a20554bd22",
   "metadata": {},
   "source": [
    "For each datastack, CAVE stores information about key data sources and parameters. These can be accessed through:"
   ]
  },
  {
   "cell_type": "code",
   "execution_count": null,
   "id": "d011f73b-17cc-42d3-aef1-8d690d8edf28",
   "metadata": {},
   "outputs": [],
   "source": [
    "client.info.get_datastack_info()"
   ]
  },
  {
   "cell_type": "markdown",
   "id": "e5d08f51-8740-45ff-af02-59e5ff2c8477",
   "metadata": {},
   "source": [
    "For instance, the synapse table is defined as `synapses_pni_2` and the cell body table as `nucleus_detection_v0`. "
   ]
  },
  {
   "cell_type": "markdown",
   "id": "d9b75dbc-056d-4dbe-bdc7-77e62b14598c",
   "metadata": {},
   "source": [
    "## Query 1: Querying cells and their types"
   ]
  },
  {
   "cell_type": "markdown",
   "id": "e068cde8-8336-45b4-aaf9-49157971f160",
   "metadata": {},
   "source": [
    "### Querying cell bodies"
   ]
  },
  {
   "cell_type": "markdown",
   "id": "57b364ce-176c-4562-8d90-a4425ec7e6e1",
   "metadata": {},
   "source": [
    "The basic querying logic of CAVE is `client.materialize.query_table`. This accepts at least a table as parameter. Let's query the table of all automatically segmented nuclei:"
   ]
  },
  {
   "cell_type": "code",
   "execution_count": null,
   "id": "a1e79e8e-2ef3-468b-8af2-b5a824eb94c1",
   "metadata": {
    "scrolled": true
   },
   "outputs": [],
   "source": [
    "nucleus_table_name = client.info.get_datastack_info()[\"soma_table\"]\n",
    "nucleus_df = client.materialize.query_table(nucleus_table_name)\n",
    "nucleus_df.head(5)"
   ]
  },
  {
   "cell_type": "markdown",
   "id": "4f46c5c9-7165-4eb5-b742-34a5adb5119c",
   "metadata": {},
   "source": [
    "Every annotation table has at least one position column (here: `pt_position`) which serves as anchor to the segmentation. These positions are automatically associated to the segmentation using `pt_root_id`s which can be thought of segment or cell IDs. Beyond positions and their associated IDs, every table stores metadata. For instance, the nucleus table contains the `volume` of each cell body.\n",
    "\n",
    "Every table has a description and metadata attached to it that describes how the data was generated, limitations of it, and papers to cite when using it:"
   ]
  },
  {
   "cell_type": "code",
   "execution_count": null,
   "id": "22846a72-1ff1-4317-a6db-6a9c60042892",
   "metadata": {},
   "outputs": [],
   "source": [
    "client.materialize.get_table_metadata(nucleus_table_name)"
   ]
  },
  {
   "cell_type": "markdown",
   "id": "257a0ecf-ca0a-41d3-8475-9b244c75a28d",
   "metadata": {},
   "source": [
    "### Location vs depth\n",
    "\n",
    "As a first analysis, we will plot the depth location vs the size of each cell nucleus. `query_table` has additional parameters to modify the results and standardize returns that make such an analysis easier. Using `desired_resolution` the resolution of all position columns can be defined in nanometers. Using `split_positions`, position columns are separated:"
   ]
  },
  {
   "cell_type": "code",
   "execution_count": null,
   "id": "bef327d8-4096-47ce-b8d5-f33492155c51",
   "metadata": {},
   "outputs": [],
   "source": [
    "nucleus_df = client.materialize.query_table(nucleus_table_name, desired_resolution=[1000, 1000, 1000], split_positions=True)\n",
    "nucleus_df.head(5)"
   ]
  },
  {
   "cell_type": "markdown",
   "id": "ff18cb79-ee28-43aa-9940-bdf5a8a1f673",
   "metadata": {},
   "source": [
    "The data is organized such that the `y` axis is roughly aligned with depth (there is a 5 degree tilt that can be adjusted with the [standard_transform](https://github.com/CAVEconnectome/standard_transform) package; we will ignore that here for simplicity). "
   ]
  },
  {
   "cell_type": "code",
   "execution_count": null,
   "id": "555abccc-5b50-4878-8442-6ae887517a15",
   "metadata": {},
   "outputs": [],
   "source": [
    "fig, ax = plt.subplots(figsize=(6, 6), dpi=150)\n",
    "ax.tick_params(labelsize=14)\n",
    "sns.scatterplot(data=nucleus_df, x=\"volume\", y=\"pt_position_y\", size=1, edgecolor=None, alpha=.01, color=\"k\", ax=ax, legend=False)\n",
    "ax.invert_yaxis()\n",
    "ax.set_xlabel(\"Volume ($\\mu m^3$)\", fontsize=16)\n",
    "ax.set_ylabel(\"Depth ($\\mu m$)\", fontsize=16)\n",
    "ax.set_xlim(0, 500)\n",
    "plt.show()"
   ]
  },
  {
   "cell_type": "markdown",
   "id": "e6b43f1f-260a-48db-92da-254ba884da5f",
   "metadata": {},
   "source": [
    "### Qerying cell type information "
   ]
  },
  {
   "cell_type": "markdown",
   "id": "44a087cb-75bb-4172-8904-9435dbd19df9",
   "metadata": {},
   "source": [
    "Identifying the putative ‘cell type’ from the EM morphology is a process that involves both manual and automatic classifications. Subsets of the dataset have been manually classified by anatomists at the Allen Institute, and these ground truth labels used to train and refine different automated ‘feature classifiers’ over time.\n",
    "\n",
    "The diversity of manual and automated cell type classifications available in the dataset reflect the fact that definitions of ‘cell types’ in the dataset is an active area of research and must be contextualized against the purpose and resolution of the cell-typing being performed.\n",
    "\n",
    "__Manual Cell Types (V1 Column)__\n",
    "\n",
    "A subset of nucleus detections in a 100 um column (n=2204) in VISp were manually classified by anatomists at the Allen Institute into categories of cell subclasses, first distinguishing cells into classes of non-neuronal, excitatory and inhibitory. Excitatory cells were separated into laminar sub-classes (L23, L4), 3 sub-types of layer 5 cells (ET, IT, NP) and 2 classes of layer 6 cells (IT, CT). Inhibitory cells were classified into Bipolar (BPC), Basket (BC), Martinotti (MC), or Unsure (Unsure). Those neuronal calls are available from the CAVEclient under the table name `allen_v1_column_types_slanted_ref` which references the nucleus id of the cell.\n",
    "\n",
    "\n",
    "Non-neuronal manual cells type calls enumerate astrocytes, microglia, pericytes, oligodendrocytes (oligo), and oligodendrocyte precursor cells (OPC), and area available in the table `aibs_column_nonneuronal_ref`."
   ]
  },
  {
   "cell_type": "code",
   "execution_count": null,
   "id": "5fcfab2d-0e02-4661-beea-d4a9b177c8a9",
   "metadata": {},
   "outputs": [],
   "source": [
    "manual_ct_df = client.materialize.query_table(\"allen_v1_column_types_slanted_ref\", desired_resolution=[1000, 1000, 1000], split_positions=True,\n",
    "                                       merge_reference=False)\n",
    "\n",
    "print(len(manual_ct_df))\n",
    "manual_ct_df.head(5)"
   ]
  },
  {
   "cell_type": "markdown",
   "id": "9e5118fd-dd6a-4cde-8878-c2fac68d3d93",
   "metadata": {},
   "source": [
    "__Automated Cell Type classification (Soma-nucleus model)__\n",
    "\n",
    "Models were trained based upon the manual Column Neuron labels, as described in Elabbady et al. BioRxiv 2023. Each nucleus was analyzed for a variety of features, and a model trained on and independent dataset to distinguish neurons from non-neuronal detections. Non-neuron detections include both glial cells and false positive detections. The nucleus segmentation detected 171,818 connected components of nucleus objects, this model detected 82K neurons. Evaluation of this model on 1,316 cells in the volume shows the model has a recall of 99.6% for neurons, and a precision of 96.9%. All nucleus detections and the results of this model can be queried and linked to the cellular segmentation using the CAVEclient with the table name nucleus_neuron_svm.\n",
    "\n",
    "Combining those features with the nucleus features we trained a hierachical model on the manual labels to predict cell-classes and sub-classes across a large number of neurons. This is available as CAVE table `aibs_metamodel_celltypes_v661`."
   ]
  },
  {
   "cell_type": "code",
   "execution_count": null,
   "id": "345972d3-99c7-405e-906b-7ec21db65282",
   "metadata": {},
   "outputs": [],
   "source": [
    "ct_df = client.materialize.query_table(\"aibs_metamodel_celltypes_v661\", desired_resolution=[1000, 1000, 1000], split_positions=True,\n",
    "                                       merge_reference=False)\n",
    "print(len(ct_df))\n",
    "ct_df.head(5)"
   ]
  },
  {
   "cell_type": "markdown",
   "id": "0ab1ca15-0f95-404b-a5f5-2532c336f6bd",
   "metadata": {},
   "source": [
    "Reference annotations contain `target_id` to merge them onto the table they target (here: the nucleus table). But do not worry, CAVE automatically merges them onto their target table by default (`merge_reference=True`):"
   ]
  },
  {
   "cell_type": "code",
   "execution_count": null,
   "id": "505abc6c-71de-4f37-b372-b0d845679303",
   "metadata": {},
   "outputs": [],
   "source": [
    "ct_df = client.materialize.query_table(\"aibs_metamodel_celltypes_v661\", desired_resolution=[1000, 1000, 1000], split_positions=True)\n",
    "\n",
    "# remove segments with multiple cell bodies\n",
    "ct_df = ct_df.drop_duplicates(\"pt_root_id\", keep=False)\n",
    "ct_df.head(5)"
   ]
  },
  {
   "cell_type": "markdown",
   "id": "0378ff72-f312-4ff3-8f21-a6ec7ad3a0e8",
   "metadata": {},
   "source": [
    "The reference table added two additional data columns: `classification_system` and `cell_type`. The `classification_system` divides the cells into excitatitory and inhibitory neurons as well as non-neuronal cells. `cell_type` provides lower level cell annotations."
   ]
  },
  {
   "cell_type": "code",
   "execution_count": null,
   "id": "d108ea36-8b8c-428f-8019-1c55d4f0d552",
   "metadata": {},
   "outputs": [],
   "source": [
    "ct_df[\"classification_system\"].value_counts()"
   ]
  },
  {
   "cell_type": "code",
   "execution_count": null,
   "id": "cf70a190-a294-429e-8555-0c35f9f54e71",
   "metadata": {},
   "outputs": [],
   "source": [
    "ct_df[\"cell_type\"].value_counts()"
   ]
  },
  {
   "cell_type": "markdown",
   "id": "f4ec4091-d0aa-4b9d-a855-fac176774bb7",
   "metadata": {},
   "source": [
    "### Location vs depth + Cell type\n"
   ]
  },
  {
   "cell_type": "markdown",
   "id": "ea00793c-ac9d-4ef9-95f4-0826031ebf54",
   "metadata": {},
   "source": [
    "Because the cell type table contains the information about the nuclei, we can use it to plot the locations of all cell bodies as well and label them by type."
   ]
  },
  {
   "cell_type": "code",
   "execution_count": null,
   "id": "748f0bfe-8abb-460e-99b9-e3ccdd5e017f",
   "metadata": {},
   "outputs": [],
   "source": [
    "fig, ax = plt.subplots(figsize=(6, 6), dpi=150)\n",
    "ax.tick_params(labelsize=14)\n",
    "sns.scatterplot(data=ct_df, x=\"volume\", y=\"pt_position_y\", size=1, edgecolor=None, alpha=.1, color=\"k\", ax=ax, \n",
    "                legend=True, hue=\"classification_system\")\n",
    "ax.invert_yaxis()\n",
    "ax.set_xlabel(\"Volume ($\\mu m^3$)\", fontsize=16)\n",
    "ax.set_ylabel(\"Depth ($\\mu m$)\", fontsize=16)\n",
    "ax.set_xlim(0, 500)\n",
    "plt.show()"
   ]
  },
  {
   "cell_type": "markdown",
   "id": "3880ef35-36fe-4dff-bcaa-6c3aac3c1cd8",
   "metadata": {},
   "source": [
    "Soma volume is one of the distinguishing features used to classify cells into their morphological subtypes, and as expected this shows up in the plot of soma size by depth."
   ]
  },
  {
   "cell_type": "code",
   "execution_count": null,
   "id": "bf2c1fc2-bb53-443b-93f3-e6a939489230",
   "metadata": {},
   "outputs": [],
   "source": [
    "fig, ax = plt.subplots(figsize=(6, 6), dpi=150)\n",
    "ax.tick_params(labelsize=14)\n",
    "sns.scatterplot(data=ct_df, x=\"volume\", y=\"pt_position_y\", size=1, edgecolor=None, alpha=.1, color=\"k\", ax=ax, \n",
    "                legend=True, hue=\"cell_type\")\n",
    "ax.invert_yaxis()\n",
    "ax.set_xlabel(\"Volume ($\\mu m^3$)\", fontsize=16)\n",
    "ax.set_ylabel(\"Depth ($\\mu m$)\", fontsize=16)\n",
    "ax.set_xlim(0, 500)\n",
    "plt.show()"
   ]
  },
  {
   "cell_type": "markdown",
   "id": "ea42fdf3-6af2-49b8-8668-b0237f53659f",
   "metadata": {},
   "source": [
    "## Query 2: Proofread neurons\n",
    "\n",
    "### Proofreading and data quality\n",
    "Understanding this variablity in data quality is critical when interpretting the MICrONS data.\n",
    "\n",
    "Automated segmentation of neuronal processes in dense EM imaging is challenging at the size of entire neurons, which can have millimeters of axons and dendrites. The automated segmentation algorithms used in the EM data for this project are not perfect, and so proofreading is necessary to obtain accurate reconstructions of a cell and confidence in the connectivity\n",
    "\n",
    "In the MICrONS dataset, the general rule is that dendrites onto cells with a cell body are sufficiently proofread to trust synaptic connections onto a cell. Axons on the other hand require so much proofreading that only ~1,650 cells have proofread axons.\n",
    "\n",
    "Axon and dendrite compartment status are marked separately, as proofreading effort was applied differently to the different compartments in some cells. In all cases, a status of TRUE indicates that false merges have been comprehensively removed, and the compartment is at least ‘clean’. Consult the ‘strategy’ column if completeness of the compartment is relevant to your research.\n",
    "\n",
    "Some cells were extended to different degrees of completeness, or with different research goals in mind. This is denoted by 'strategy_axon', which may be one of:\n",
    "\n",
    "* none: No cleaning, and no extension, and status is `FALSE`.\n",
    "* axon_partially_extended: The axon was extended outward from the soma, following each branch to its termination. Output synapses represent a sampling of potential partners.\n",
    "* axon_interareal: The axon was extended with a preference for branches that projected to other brain areas. Some axon branches were fully extended, but local connections may be incomplete. Output synapses represent a sampling of potential partners.\n",
    "* axon_fully_extended: Axon was extended outward from the soma, following each branch to its termination. After initial extension, every endpoint was identified, manually inspected, and extended again if possible. Output synapses represent a largely complete sampling of partners."
   ]
  },
  {
   "cell_type": "code",
   "execution_count": null,
   "id": "504fe017-cdf8-47cb-a7bb-a958f4245675",
   "metadata": {},
   "outputs": [],
   "source": [
    "proof_all_df = client.materialize.query_table(\"proofreading_status_and_strategy\")"
   ]
  },
  {
   "cell_type": "code",
   "execution_count": null,
   "id": "ee6a4e2a-f416-4fbd-a5c7-a4c8540f3da7",
   "metadata": {},
   "outputs": [],
   "source": [
    "proof_all_df[\"strategy_axon\"].value_counts()"
   ]
  },
  {
   "cell_type": "code",
   "execution_count": null,
   "id": "f4724ad5-6334-4fc9-a798-588f0eff6b5e",
   "metadata": {},
   "outputs": [],
   "source": [
    "proof_all_df[\"strategy_axon\"].value_counts()"
   ]
  },
  {
   "cell_type": "markdown",
   "id": "bbb37341-b1b1-4b57-bc27-7524ed8b89ec",
   "metadata": {},
   "source": [
    "We can filter our query to only return rows that match a condition by adding a filter to our query:"
   ]
  },
  {
   "cell_type": "code",
   "execution_count": null,
   "id": "20a4f009-6662-426d-8fee-3edb2677b735",
   "metadata": {},
   "outputs": [],
   "source": [
    "proof_df = client.materialize.query_table(\"proofreading_status_and_strategy\", filter_in_dict={\"strategy_axon\": [\"axon_partially_extended\", \"axon_fully_extended\", \"axon_interareal\"]})"
   ]
  },
  {
   "cell_type": "code",
   "execution_count": null,
   "id": "7fefced1-4e95-43a3-9d7c-fc7c98e5a4f6",
   "metadata": {},
   "outputs": [],
   "source": [
    "proof_df[\"strategy_axon\"].value_counts()"
   ]
  },
  {
   "cell_type": "markdown",
   "id": "1f7e5e1f-e04b-4fbe-81a0-a6243955d355",
   "metadata": {},
   "source": [
    "For each neuron, the complete changelog is available (takes ~10s):"
   ]
  },
  {
   "cell_type": "code",
   "execution_count": null,
   "id": "77b7df65-9e0f-4f7b-8db2-d900b27a8480",
   "metadata": {},
   "outputs": [],
   "source": [
    "client.chunkedgraph.get_tabular_change_log(864691135617152361)[864691135617152361]"
   ]
  },
  {
   "cell_type": "markdown",
   "id": "654f3bbb-9b3e-44ca-8139-0e001b078591",
   "metadata": {},
   "source": [
    "## Query 3: Synapse query"
   ]
  },
  {
   "cell_type": "markdown",
   "id": "fcba9ad7-6259-430f-95b2-a55d02a9051a",
   "metadata": {},
   "source": [
    "The MICrONS dataset relies on automatically detected synapses for connectivity information. The consortium automatically detected and associated a total of 337 million synaptic clefts. The detections were evaluated by manually identifying synapses in 70 small subvolumes (n=8,611 synapses) distributed across the dataset, giving the automated detection an estimated precision of 96% and recall of 89% with a partner assignment accuracy of 98%.\n",
    "\n",
    "We can query the synapse table directly. However, it is too large to query all at once. CAVE limits to queries to 500,000 rows at once and will display a warning when that happens. Here, we demonstrate this with the limit set to 10:"
   ]
  },
  {
   "cell_type": "code",
   "execution_count": null,
   "id": "6a9c2607-441d-4326-845f-a0a827aaaa31",
   "metadata": {},
   "outputs": [],
   "source": [
    "synapse_table_name = client.info.get_datastack_info()[\"synapse_table\"]\n",
    "syn_df = client.materialize.query_table(synapse_table_name, limit=10)\n",
    "syn_df"
   ]
  },
  {
   "cell_type": "markdown",
   "id": "989a2b9e-bf2a-4226-934b-f1c6266fa617",
   "metadata": {},
   "source": [
    "Instead we need to limit our query to a few neurons. We can query the graph spanned by the neurons with \"clean\" axons using the `filter_in_dict` parameter:\n",
    "\n",
    "Note: this will take 1-2 min to collect the synapses"
   ]
  },
  {
   "cell_type": "code",
   "execution_count": null,
   "id": "279cb2aa-f098-48b5-9a59-7f44e216c1a6",
   "metadata": {},
   "outputs": [],
   "source": [
    "%%time \n",
    "\n",
    "synapse_table_name = client.info.get_datastack_info()[\"synapse_table\"]\n",
    "syn_df = client.materialize.query_table(synapse_table_name, \n",
    "                                        filter_in_dict={\"pre_pt_root_id\": proof_df[\"pt_root_id\"], \n",
    "                                                        \"post_pt_root_id\": proof_df[\"pt_root_id\"]})\n",
    "\n",
    "# remove autapses (which are usually false detections. Real autapses are very rare)\n",
    "syn_df = syn_df[syn_df[\"pre_pt_root_id\"] != syn_df[\"post_pt_root_id\"]]\n",
    "syn_df"
   ]
  },
  {
   "cell_type": "markdown",
   "id": "b7a98150-0c5e-447d-b192-5acf4fdb6792",
   "metadata": {},
   "source": [
    "### Connectivity matrix: binary connectivity"
   ]
  },
  {
   "cell_type": "markdown",
   "id": "c2cb8ebe-23a9-463c-a7d4-d3faa5f930b8",
   "metadata": {},
   "source": [
    "Compared to the nucleus table, the synapse table has two points which were associated with segments (`pre_pt_position` and `post_pt_position`). The associated root ID columns are `pre_pt_root_id` and `post_pt_root_id`. "
   ]
  },
  {
   "cell_type": "markdown",
   "id": "3f4df7d5-227e-41f1-99f3-371c50b587ec",
   "metadata": {},
   "source": [
    "Using pandas pivot function, we can transform this table into a matrix and plot it:"
   ]
  },
  {
   "cell_type": "code",
   "execution_count": null,
   "id": "2ec9032f-0c85-4422-8456-6293ebc94742",
   "metadata": {},
   "outputs": [],
   "source": [
    "# collect the count of synapse connectivity\n",
    "syn_mat = syn_df.pivot_table(index=\"pre_pt_root_id\", columns=\"post_pt_root_id\", \n",
    "                             values=\"size\", aggfunc=lambda x: float(np.sum(x) > 0)).fillna(0)\n",
    "\n",
    "# Squaring the matrix\n",
    "syn_mat = syn_mat.reindex(columns=syn_mat.index)"
   ]
  },
  {
   "cell_type": "code",
   "execution_count": null,
   "id": "c12b46f1-3b39-4268-9167-252800e8613c",
   "metadata": {},
   "outputs": [],
   "source": [
    "fig, ax = plt.subplots(figsize=(7, 5), dpi=150)\n",
    "sns.heatmap(syn_mat, cmap=\"gray_r\", xticklabels=[], yticklabels=[], \n",
    "            ax=ax, square=True,\n",
    "            cbar_kws={\"label\": \"Connected - binary\"})"
   ]
  },
  {
   "cell_type": "markdown",
   "id": "2607698c-3466-4550-b19f-00a2bc272ad2",
   "metadata": {},
   "source": [
    "### Connectivity matrix: aggregate synapse size"
   ]
  },
  {
   "cell_type": "markdown",
   "id": "97a241ca-ea93-4b86-98a9-d23157a982fb",
   "metadata": {},
   "source": [
    "Depending on your model of connectivity, you may want to take take __synapse size and number__ into account. The `size` column of the synapse table in the in the MICrONS dataset measure the synaptic cleft volume annotated by the automated classifier in voxels (3d pixels). These are correlated to anatomical measures such as synaptic area and spine head volumes (for excitatory synapses). Let's replot the square matrix with the aggregate sum of synapses sizes between each connected pair."
   ]
  },
  {
   "cell_type": "code",
   "execution_count": null,
   "id": "ad1124e2-0087-43dd-8bf4-b61e20eee409",
   "metadata": {},
   "outputs": [],
   "source": [
    "# aggregate sum of synapse size\n",
    "syn_mat = syn_df.pivot_table(index=\"pre_pt_root_id\", columns=\"post_pt_root_id\", values=\"size\", aggfunc=\"sum\")\n",
    "\n",
    "# Squaring the matrix\n",
    "syn_mat = syn_mat.reindex(columns=syn_mat.index)"
   ]
  },
  {
   "cell_type": "code",
   "execution_count": null,
   "id": "2f6d9f12-0bf0-46a8-8d27-43cabb598858",
   "metadata": {},
   "outputs": [],
   "source": [
    "fig, ax = plt.subplots(figsize=(7, 5), dpi=150)\n",
    "sns.heatmap(np.log(syn_mat), cmap=\"hot_r\", ax=ax, xticklabels=[], yticklabels=[], cbar_kws={\"label\": 'Connectivity - log(sum(synapse size))'})\n",
    "plt.show()"
   ]
  },
  {
   "cell_type": "markdown",
   "id": "4feb5ad9-f6cf-4b41-a1c7-d7d70462fb27",
   "metadata": {},
   "source": [
    "## Conclusions\n",
    "There is structure between different connected pairs, but without more information about the individual rows or columns it can be difficult to interpret one. \n",
    "\n",
    "One next step is to combine the __cell type information__ and __output connectivity__ to explain the connectivity patterns"
   ]
  }
 ],
 "metadata": {
  "kernelspec": {
   "display_name": "microns2025",
   "language": "python",
   "name": "microns2025"
  },
  "language_info": {
   "codemirror_mode": {
    "name": "ipython",
    "version": 3
   },
   "file_extension": ".py",
   "mimetype": "text/x-python",
   "name": "python",
   "nbconvert_exporter": "python",
   "pygments_lexer": "ipython3",
   "version": "3.11.11"
  }
 },
 "nbformat": 4,
 "nbformat_minor": 5
}
